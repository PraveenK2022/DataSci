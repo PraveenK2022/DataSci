{
 "cells": [
  {
   "cell_type": "code",
   "execution_count": 71,
   "id": "014ac401",
   "metadata": {},
   "outputs": [
    {
     "name": "stdout",
     "output_type": "stream",
     "text": [
      "['AAB', 'CAA', 'ADA']\n",
      "[['A', 'A', 'B'], ['C', 'A', 'A'], ['A', 'D', 'A']]\n",
      "AB\n",
      "CA\n",
      "AD\n"
     ]
    }
   ],
   "source": [
    "def merge_the_tools(string, k):\n",
    "    str1=[string[i:i+k] for i in range(0,len(string),k)]\n",
    "    print(str1)\n",
    "    str2=[list(subset) for subset in str1]\n",
    "    print(str2)\n",
    "    str3=[]\n",
    "    for char in str2:\n",
    "        subset=[]\n",
    "        [subset.append(a) for a in char if a not in subset]\n",
    "        str3.append(subset)\n",
    "    [print(x) for x in [\"\".join(a) for a in str3]]    \n",
    "merge_the_tools('AABCAAADA',3)\n"
   ]
  },
  {
   "cell_type": "code",
   "execution_count": 64,
   "id": "75bd5c74",
   "metadata": {},
   "outputs": [
    {
     "name": "stdout",
     "output_type": "stream",
     "text": [
      "[(10, 'apple'), (11, 'banana'), (12, 'grapes'), (13, 'pear')]\n"
     ]
    }
   ],
   "source": [
    "my_list = ['apple', 'banana', 'grapes', 'pear']\n",
    "my_list = list(enumerate(my_list, 10))\n",
    "print(my_list)\n"
   ]
  },
  {
   "cell_type": "code",
   "execution_count": 74,
   "id": "ed36fb53",
   "metadata": {},
   "outputs": [
    {
     "name": "stdout",
     "output_type": "stream",
     "text": [
      "['p', 'r', 'a', 'v', 'e', 'e', 'n']\n",
      "<itertools.cycle object at 0x000001F7D2460E00>\n"
     ]
    }
   ],
   "source": [
    "import itertools as i\n",
    "s='praveen'\n",
    "str1=list(s)\n",
    "print(str1)\n",
    "print(i.cycle(s))"
   ]
  },
  {
   "cell_type": "code",
   "execution_count": null,
   "id": "0027e0b8",
   "metadata": {},
   "outputs": [],
   "source": []
  }
 ],
 "metadata": {
  "kernelspec": {
   "display_name": "Python 3 (ipykernel)",
   "language": "python",
   "name": "python3"
  },
  "language_info": {
   "codemirror_mode": {
    "name": "ipython",
    "version": 3
   },
   "file_extension": ".py",
   "mimetype": "text/x-python",
   "name": "python",
   "nbconvert_exporter": "python",
   "pygments_lexer": "ipython3",
   "version": "3.9.7"
  }
 },
 "nbformat": 4,
 "nbformat_minor": 5
}
