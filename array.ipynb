{
 "cells": [
  {
   "cell_type": "code",
   "execution_count": 27,
   "id": "7a5e320a",
   "metadata": {},
   "outputs": [
    {
     "name": "stdout",
     "output_type": "stream",
     "text": [
      "4\n",
      "2 5 8 4\n",
      "5\n"
     ]
    }
   ],
   "source": [
    "n = int(input())\n",
    "arr = map(int, input().split())\n",
    "l=list(arr)\n",
    "s=[]\n",
    "for x in range(len(l)):\n",
    "    if l[x] not in s:\n",
    "        s.append(l[x])\n",
    "s.sort(reverse=True)\n",
    "print(s[1])\n",
    "\n"
   ]
  },
  {
   "cell_type": "code",
   "execution_count": 18,
   "id": "a07dbc3b",
   "metadata": {},
   "outputs": [
    {
     "name": "stdout",
     "output_type": "stream",
     "text": [
      "[2, 4, 6, 8]\n"
     ]
    }
   ],
   "source": [
    "s=map(int,'1234')\n",
    "s1=list(s)\n",
    "print([x*2 for x in s1])\n"
   ]
  },
  {
   "cell_type": "code",
   "execution_count": null,
   "id": "a2c41a0c",
   "metadata": {},
   "outputs": [],
   "source": []
  }
 ],
 "metadata": {
  "kernelspec": {
   "display_name": "Python 3 (ipykernel)",
   "language": "python",
   "name": "python3"
  },
  "language_info": {
   "codemirror_mode": {
    "name": "ipython",
    "version": 3
   },
   "file_extension": ".py",
   "mimetype": "text/x-python",
   "name": "python",
   "nbconvert_exporter": "python",
   "pygments_lexer": "ipython3",
   "version": "3.9.7"
  }
 },
 "nbformat": 4,
 "nbformat_minor": 5
}
