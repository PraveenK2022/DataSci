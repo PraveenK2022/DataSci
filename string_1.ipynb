{
 "cells": [
  {
   "cell_type": "code",
   "execution_count": 61,
   "id": "2f8fbd03",
   "metadata": {},
   "outputs": [
    {
     "name": "stdout",
     "output_type": "stream",
     "text": [
      "please input string with _ hema_praveen_\n",
      "hema\n",
      "praveen\n",
      "\n",
      "end\n"
     ]
    }
   ],
   "source": [
    "import sys, ast\n",
    "name = input(\"please input string with _ \")\n",
    "begin=0\n",
    "index=name.find(\"_\")\n",
    "while index > -1 :\n",
    "    print(name[begin:index])\n",
    "    begin=index+1\n",
    "    index=name.find(\"_\",begin,len(name))\n",
    "    if index==-1:\n",
    "        print(name[begin:len(name)])\n",
    "print(\"end\")"
   ]
  },
  {
   "cell_type": "code",
   "execution_count": null,
   "id": "eec32dff",
   "metadata": {},
   "outputs": [],
   "source": []
  },
  {
   "cell_type": "code",
   "execution_count": 15,
   "id": "9accc30b",
   "metadata": {},
   "outputs": [
    {
     "name": "stdout",
     "output_type": "stream",
     "text": [
      " \n"
     ]
    }
   ],
   "source": []
  },
  {
   "cell_type": "code",
   "execution_count": null,
   "id": "f6b4bec8",
   "metadata": {},
   "outputs": [],
   "source": []
  }
 ],
 "metadata": {
  "kernelspec": {
   "display_name": "Python 3 (ipykernel)",
   "language": "python",
   "name": "python3"
  },
  "language_info": {
   "codemirror_mode": {
    "name": "ipython",
    "version": 3
   },
   "file_extension": ".py",
   "mimetype": "text/x-python",
   "name": "python",
   "nbconvert_exporter": "python",
   "pygments_lexer": "ipython3",
   "version": "3.9.7"
  }
 },
 "nbformat": 4,
 "nbformat_minor": 5
}
