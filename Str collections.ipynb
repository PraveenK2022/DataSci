{
 "cells": [
  {
   "cell_type": "code",
   "execution_count": 1,
   "id": "e84b9a8a",
   "metadata": {},
   "outputs": [],
   "source": [
    "s=\"str\"\n",
    "s=10"
   ]
  },
  {
   "cell_type": "code",
   "execution_count": 2,
   "id": "39b26a07",
   "metadata": {},
   "outputs": [],
   "source": [
    "s=10\n",
    "s=\"str\""
   ]
  },
  {
   "cell_type": "code",
   "execution_count": 3,
   "id": "42041982",
   "metadata": {},
   "outputs": [
    {
     "name": "stdout",
     "output_type": "stream",
     "text": [
      "str\n"
     ]
    }
   ],
   "source": [
    "print(s)"
   ]
  },
  {
   "cell_type": "code",
   "execution_count": 6,
   "id": "89356e21",
   "metadata": {},
   "outputs": [
    {
     "name": "stdout",
     "output_type": "stream",
     "text": [
      "<class 'tuple'>\n"
     ]
    }
   ],
   "source": [
    "a=(10,2,30)\n",
    "print(type(a))\n"
   ]
  },
  {
   "cell_type": "code",
   "execution_count": 8,
   "id": "ac4d9769",
   "metadata": {},
   "outputs": [
    {
     "name": "stdout",
     "output_type": "stream",
     "text": [
      "11\n"
     ]
    }
   ],
   "source": [
    "n=10\n",
    "def test():\n",
    "    n1=n+1\n",
    "    print(n1)\n",
    "\n",
    "test()"
   ]
  },
  {
   "cell_type": "code",
   "execution_count": 9,
   "id": "7a5c542e",
   "metadata": {},
   "outputs": [
    {
     "name": "stdout",
     "output_type": "stream",
     "text": [
      "12.571428571428571\n",
      "12.56\n"
     ]
    }
   ],
   "source": [
    "pie=22/7\n",
    "def radius(r):\n",
    "    a=2*pie*r\n",
    "    print(a)\n",
    "def radius1(r):\n",
    "    global pie\n",
    "    pie=3.14\n",
    "    a=2*pie*r\n",
    "    print(a)\n",
    "\n",
    "radius(2)\n",
    "radius1(2)\n"
   ]
  },
  {
   "cell_type": "code",
   "execution_count": 10,
   "id": "cc74410c",
   "metadata": {},
   "outputs": [
    {
     "name": "stdout",
     "output_type": "stream",
     "text": [
      "['D', 'a', 't', 'a', 'S', 'c', 'i', 'e', 'n', 'c', 'e']\n"
     ]
    }
   ],
   "source": [
    "String='DataScience'\n",
    "l=[i for i in String]\n",
    "print(l)"
   ]
  },
  {
   "cell_type": "code",
   "execution_count": 14,
   "id": "a2cd3e7b",
   "metadata": {},
   "outputs": [
    {
     "name": "stdout",
     "output_type": "stream",
     "text": [
      "['even', 'odd', 'even', 'odd', 'even', 'odd', 'even', 'odd', 'even', 'odd']\n"
     ]
    }
   ],
   "source": [
    "print(['even' if i%2==0 else 'odd' for i in range(0,10)])"
   ]
  },
  {
   "cell_type": "code",
   "execution_count": 26,
   "id": "b048851c",
   "metadata": {},
   "outputs": [
    {
     "name": "stdout",
     "output_type": "stream",
     "text": [
      "4\n"
     ]
    }
   ],
   "source": [
    "s={4,5}\n",
    "q=iter(s)\n",
    "print(next(q))"
   ]
  },
  {
   "cell_type": "code",
   "execution_count": 27,
   "id": "7eca70a2",
   "metadata": {},
   "outputs": [
    {
     "name": "stdout",
     "output_type": "stream",
     "text": [
      "5\n"
     ]
    }
   ],
   "source": [
    "print(next(q))"
   ]
  },
  {
   "cell_type": "code",
   "execution_count": 28,
   "id": "31acb7af",
   "metadata": {},
   "outputs": [
    {
     "ename": "StopIteration",
     "evalue": "",
     "output_type": "error",
     "traceback": [
      "\u001b[1;31m---------------------------------------------------------------------------\u001b[0m",
      "\u001b[1;31mStopIteration\u001b[0m                             Traceback (most recent call last)",
      "\u001b[1;32m~\\AppData\\Local\\Temp/ipykernel_6004/592618036.py\u001b[0m in \u001b[0;36m<module>\u001b[1;34m\u001b[0m\n\u001b[1;32m----> 1\u001b[1;33m \u001b[0mprint\u001b[0m\u001b[1;33m(\u001b[0m\u001b[0mnext\u001b[0m\u001b[1;33m(\u001b[0m\u001b[0mq\u001b[0m\u001b[1;33m)\u001b[0m\u001b[1;33m)\u001b[0m\u001b[1;33m\u001b[0m\u001b[1;33m\u001b[0m\u001b[0m\n\u001b[0m",
      "\u001b[1;31mStopIteration\u001b[0m: "
     ]
    }
   ],
   "source": [
    "print(next(q))"
   ]
  },
  {
   "cell_type": "code",
   "execution_count": 29,
   "id": "255814ee",
   "metadata": {},
   "outputs": [
    {
     "name": "stdout",
     "output_type": "stream",
     "text": [
      "[0, 1]\n"
     ]
    }
   ],
   "source": [
    "print([i for i in range(2)])"
   ]
  },
  {
   "cell_type": "code",
   "execution_count": 4,
   "id": "06c14f34",
   "metadata": {},
   "outputs": [
    {
     "name": "stdout",
     "output_type": "stream",
     "text": [
      "4\n",
      "bcdef\n",
      "abcdefg\n",
      "bcde\n",
      "bcdef\n",
      "3\n",
      "2 1 1\n"
     ]
    }
   ],
   "source": [
    "#l=['bcdef','abcdefg','bcde','bcdef']\n",
    "l=[]\n",
    "n=int(input())\n",
    "for i in range(n):\n",
    "    l.append(input())\n",
    "s=set(l)\n",
    "res_count=[]\n",
    "while len(l) >0:\n",
    "    res_count.append(l.count(l[0]))\n",
    "    l= list(filter((l[0]).__ne__, l))\n",
    "print(len(s))\n",
    "print(*res_count)"
   ]
  },
  {
   "cell_type": "code",
   "execution_count": 140,
   "id": "0aed842a",
   "metadata": {},
   "outputs": [
    {
     "name": "stdout",
     "output_type": "stream",
     "text": [
      "[1, 3]\n"
     ]
    }
   ],
   "source": [
    "l=[1, 2, 3, 2]\n",
    "#l=list(filter(l[0],l))\n",
    "l= list(filter((l[1]).__ne__, l))\n",
    "print(l)\n"
   ]
  },
  {
   "cell_type": "code",
   "execution_count": 8,
   "id": "3d6365f9",
   "metadata": {},
   "outputs": [
    {
     "name": "stdout",
     "output_type": "stream",
     "text": [
      "4\n",
      "abc\n",
      "abc\n",
      "1\n",
      "bbs\n",
      "bbs\n",
      "1\n",
      "{'abc': 2, 'bbs': 2}\n"
     ]
    }
   ],
   "source": [
    "n = int(input())\n",
    "l = {}\n",
    "for i in range(n):\n",
    "    k= input()\n",
    "    if k in l:\n",
    "        l[k]+=1\n",
    "    else:\n",
    "        l[k] = 1\n",
    "print(l)\n"
   ]
  },
  {
   "cell_type": "code",
   "execution_count": null,
   "id": "22ff6848",
   "metadata": {},
   "outputs": [],
   "source": []
  }
 ],
 "metadata": {
  "kernelspec": {
   "display_name": "Python 3 (ipykernel)",
   "language": "python",
   "name": "python3"
  },
  "language_info": {
   "codemirror_mode": {
    "name": "ipython",
    "version": 3
   },
   "file_extension": ".py",
   "mimetype": "text/x-python",
   "name": "python",
   "nbconvert_exporter": "python",
   "pygments_lexer": "ipython3",
   "version": "3.9.7"
  }
 },
 "nbformat": 4,
 "nbformat_minor": 5
}
