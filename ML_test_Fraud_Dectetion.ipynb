{
 "cells": [
  {
   "cell_type": "code",
   "execution_count": 63,
   "id": "49446c8e",
   "metadata": {},
   "outputs": [],
   "source": [
    "import numpy as np\n",
    "import pandas as pd\n",
    "from sklearn.preprocessing import StandardScaler\n",
    "from sklearn.model_selection import train_test_split\n",
    "from sklearn.neighbors import KNeighborsClassifier\n",
    "from sklearn.linear_model import LogisticRegression\n",
    "from sklearn.metrics import accuracy_score,confusion_matrix,ConfusionMatrixDisplay\n",
    "import matplotlib.pyplot as plt"
   ]
  },
  {
   "cell_type": "code",
   "execution_count": 35,
   "id": "906557d4",
   "metadata": {},
   "outputs": [],
   "source": [
    "df=pd.read_csv('fraud-detection.csv')"
   ]
  },
  {
   "cell_type": "code",
   "execution_count": 59,
   "id": "b7210ee3",
   "metadata": {},
   "outputs": [
    {
     "data": {
      "text/html": [
       "<div>\n",
       "<style scoped>\n",
       "    .dataframe tbody tr th:only-of-type {\n",
       "        vertical-align: middle;\n",
       "    }\n",
       "\n",
       "    .dataframe tbody tr th {\n",
       "        vertical-align: top;\n",
       "    }\n",
       "\n",
       "    .dataframe thead th {\n",
       "        text-align: right;\n",
       "    }\n",
       "</style>\n",
       "<table border=\"1\" class=\"dataframe\">\n",
       "  <thead>\n",
       "    <tr style=\"text-align: right;\">\n",
       "      <th></th>\n",
       "      <th>step</th>\n",
       "      <th>type</th>\n",
       "      <th>amount</th>\n",
       "      <th>nameOrig</th>\n",
       "      <th>oldbalanceOrg</th>\n",
       "      <th>newbalanceOrig</th>\n",
       "      <th>nameDest</th>\n",
       "      <th>oldbalanceDest</th>\n",
       "      <th>newbalanceDest</th>\n",
       "      <th>isFraud</th>\n",
       "    </tr>\n",
       "  </thead>\n",
       "  <tbody>\n",
       "    <tr>\n",
       "      <th>count</th>\n",
       "      <td>100165.000000</td>\n",
       "      <td>100165.000000</td>\n",
       "      <td>1.001650e+05</td>\n",
       "      <td>100165</td>\n",
       "      <td>1.001650e+05</td>\n",
       "      <td>1.001650e+05</td>\n",
       "      <td>100165</td>\n",
       "      <td>1.001650e+05</td>\n",
       "      <td>1.001650e+05</td>\n",
       "      <td>100165.000000</td>\n",
       "    </tr>\n",
       "    <tr>\n",
       "      <th>unique</th>\n",
       "      <td>NaN</td>\n",
       "      <td>NaN</td>\n",
       "      <td>NaN</td>\n",
       "      <td>100165</td>\n",
       "      <td>NaN</td>\n",
       "      <td>NaN</td>\n",
       "      <td>51607</td>\n",
       "      <td>NaN</td>\n",
       "      <td>NaN</td>\n",
       "      <td>NaN</td>\n",
       "    </tr>\n",
       "    <tr>\n",
       "      <th>top</th>\n",
       "      <td>NaN</td>\n",
       "      <td>NaN</td>\n",
       "      <td>NaN</td>\n",
       "      <td>C1231006815</td>\n",
       "      <td>NaN</td>\n",
       "      <td>NaN</td>\n",
       "      <td>C985934102</td>\n",
       "      <td>NaN</td>\n",
       "      <td>NaN</td>\n",
       "      <td>NaN</td>\n",
       "    </tr>\n",
       "    <tr>\n",
       "      <th>freq</th>\n",
       "      <td>NaN</td>\n",
       "      <td>NaN</td>\n",
       "      <td>NaN</td>\n",
       "      <td>1</td>\n",
       "      <td>NaN</td>\n",
       "      <td>NaN</td>\n",
       "      <td>78</td>\n",
       "      <td>NaN</td>\n",
       "      <td>NaN</td>\n",
       "      <td>NaN</td>\n",
       "    </tr>\n",
       "    <tr>\n",
       "      <th>mean</th>\n",
       "      <td>8.502112</td>\n",
       "      <td>1.538551</td>\n",
       "      <td>1.736458e+05</td>\n",
       "      <td>NaN</td>\n",
       "      <td>8.801756e+05</td>\n",
       "      <td>8.965348e+05</td>\n",
       "      <td>NaN</td>\n",
       "      <td>8.810839e+05</td>\n",
       "      <td>1.184639e+06</td>\n",
       "      <td>0.001158</td>\n",
       "    </tr>\n",
       "    <tr>\n",
       "      <th>std</th>\n",
       "      <td>1.825055</td>\n",
       "      <td>1.506957</td>\n",
       "      <td>3.442910e+05</td>\n",
       "      <td>NaN</td>\n",
       "      <td>2.676095e+06</td>\n",
       "      <td>2.714232e+06</td>\n",
       "      <td>NaN</td>\n",
       "      <td>2.402387e+06</td>\n",
       "      <td>2.802252e+06</td>\n",
       "      <td>0.034011</td>\n",
       "    </tr>\n",
       "    <tr>\n",
       "      <th>min</th>\n",
       "      <td>1.000000</td>\n",
       "      <td>0.000000</td>\n",
       "      <td>3.200000e-01</td>\n",
       "      <td>NaN</td>\n",
       "      <td>0.000000e+00</td>\n",
       "      <td>0.000000e+00</td>\n",
       "      <td>NaN</td>\n",
       "      <td>0.000000e+00</td>\n",
       "      <td>0.000000e+00</td>\n",
       "      <td>0.000000</td>\n",
       "    </tr>\n",
       "    <tr>\n",
       "      <th>25%</th>\n",
       "      <td>8.000000</td>\n",
       "      <td>0.000000</td>\n",
       "      <td>9.970160e+03</td>\n",
       "      <td>NaN</td>\n",
       "      <td>0.000000e+00</td>\n",
       "      <td>0.000000e+00</td>\n",
       "      <td>NaN</td>\n",
       "      <td>0.000000e+00</td>\n",
       "      <td>0.000000e+00</td>\n",
       "      <td>0.000000</td>\n",
       "    </tr>\n",
       "    <tr>\n",
       "      <th>50%</th>\n",
       "      <td>9.000000</td>\n",
       "      <td>2.000000</td>\n",
       "      <td>5.285289e+04</td>\n",
       "      <td>NaN</td>\n",
       "      <td>2.008500e+04</td>\n",
       "      <td>0.000000e+00</td>\n",
       "      <td>NaN</td>\n",
       "      <td>2.091500e+04</td>\n",
       "      <td>5.048120e+04</td>\n",
       "      <td>0.000000</td>\n",
       "    </tr>\n",
       "    <tr>\n",
       "      <th>75%</th>\n",
       "      <td>10.000000</td>\n",
       "      <td>2.000000</td>\n",
       "      <td>2.119434e+05</td>\n",
       "      <td>NaN</td>\n",
       "      <td>1.910560e+05</td>\n",
       "      <td>2.154246e+05</td>\n",
       "      <td>NaN</td>\n",
       "      <td>5.891912e+05</td>\n",
       "      <td>1.061043e+06</td>\n",
       "      <td>0.000000</td>\n",
       "    </tr>\n",
       "    <tr>\n",
       "      <th>max</th>\n",
       "      <td>10.000000</td>\n",
       "      <td>4.000000</td>\n",
       "      <td>1.000000e+07</td>\n",
       "      <td>NaN</td>\n",
       "      <td>3.380000e+07</td>\n",
       "      <td>3.400000e+07</td>\n",
       "      <td>NaN</td>\n",
       "      <td>3.400000e+07</td>\n",
       "      <td>3.890000e+07</td>\n",
       "      <td>1.000000</td>\n",
       "    </tr>\n",
       "  </tbody>\n",
       "</table>\n",
       "</div>"
      ],
      "text/plain": [
       "                 step           type        amount     nameOrig  \\\n",
       "count   100165.000000  100165.000000  1.001650e+05       100165   \n",
       "unique            NaN            NaN           NaN       100165   \n",
       "top               NaN            NaN           NaN  C1231006815   \n",
       "freq              NaN            NaN           NaN            1   \n",
       "mean         8.502112       1.538551  1.736458e+05          NaN   \n",
       "std          1.825055       1.506957  3.442910e+05          NaN   \n",
       "min          1.000000       0.000000  3.200000e-01          NaN   \n",
       "25%          8.000000       0.000000  9.970160e+03          NaN   \n",
       "50%          9.000000       2.000000  5.285289e+04          NaN   \n",
       "75%         10.000000       2.000000  2.119434e+05          NaN   \n",
       "max         10.000000       4.000000  1.000000e+07          NaN   \n",
       "\n",
       "        oldbalanceOrg  newbalanceOrig    nameDest  oldbalanceDest  \\\n",
       "count    1.001650e+05    1.001650e+05      100165    1.001650e+05   \n",
       "unique            NaN             NaN       51607             NaN   \n",
       "top               NaN             NaN  C985934102             NaN   \n",
       "freq              NaN             NaN          78             NaN   \n",
       "mean     8.801756e+05    8.965348e+05         NaN    8.810839e+05   \n",
       "std      2.676095e+06    2.714232e+06         NaN    2.402387e+06   \n",
       "min      0.000000e+00    0.000000e+00         NaN    0.000000e+00   \n",
       "25%      0.000000e+00    0.000000e+00         NaN    0.000000e+00   \n",
       "50%      2.008500e+04    0.000000e+00         NaN    2.091500e+04   \n",
       "75%      1.910560e+05    2.154246e+05         NaN    5.891912e+05   \n",
       "max      3.380000e+07    3.400000e+07         NaN    3.400000e+07   \n",
       "\n",
       "        newbalanceDest        isFraud  \n",
       "count     1.001650e+05  100165.000000  \n",
       "unique             NaN            NaN  \n",
       "top                NaN            NaN  \n",
       "freq               NaN            NaN  \n",
       "mean      1.184639e+06       0.001158  \n",
       "std       2.802252e+06       0.034011  \n",
       "min       0.000000e+00       0.000000  \n",
       "25%       0.000000e+00       0.000000  \n",
       "50%       5.048120e+04       0.000000  \n",
       "75%       1.061043e+06       0.000000  \n",
       "max       3.890000e+07       1.000000  "
      ]
     },
     "execution_count": 59,
     "metadata": {},
     "output_type": "execute_result"
    }
   ],
   "source": [
    "df.describe(include='all')"
   ]
  },
  {
   "cell_type": "code",
   "execution_count": 37,
   "id": "b254efd5",
   "metadata": {},
   "outputs": [
    {
     "data": {
      "text/plain": [
       "{'PAYMENT': 0, 'TRANSFER': 1, 'CASH_OUT': 2, 'DEBIT': 3, 'CASH_IN': 4}"
      ]
     },
     "execution_count": 37,
     "metadata": {},
     "output_type": "execute_result"
    }
   ],
   "source": [
    "lookup=dict(zip(df.type.unique(),range(0,df.type.nunique())))\n",
    "lookup"
   ]
  },
  {
   "cell_type": "code",
   "execution_count": 38,
   "id": "c48e111f",
   "metadata": {},
   "outputs": [],
   "source": [
    "df['type']=df.type.replace(lookup)"
   ]
  },
  {
   "cell_type": "code",
   "execution_count": 48,
   "id": "8ea030ec",
   "metadata": {},
   "outputs": [],
   "source": [
    "X=df[[col for col in df.columns if col not in ['nameOrig','nameDest']]]\n",
    "Y=df['isFraud']"
   ]
  },
  {
   "cell_type": "code",
   "execution_count": 49,
   "id": "4344b3dd",
   "metadata": {},
   "outputs": [
    {
     "data": {
      "text/plain": [
       "pandas.core.series.Series"
      ]
     },
     "execution_count": 49,
     "metadata": {},
     "output_type": "execute_result"
    }
   ],
   "source": [
    "type(Y)"
   ]
  },
  {
   "cell_type": "code",
   "execution_count": 50,
   "id": "67a3b6ee",
   "metadata": {},
   "outputs": [],
   "source": [
    "x_train,x_test,y_train,y_test=train_test_split(X,Y,test_size=0.2,random_state=42)"
   ]
  },
  {
   "cell_type": "code",
   "execution_count": 51,
   "id": "94c5d18e",
   "metadata": {},
   "outputs": [],
   "source": [
    "sacler=StandardScaler()\n",
    "standard_x=sacler.fit_transform(x_train)\n",
    "standard_x_test=sacler.fit_transform(x_test)"
   ]
  },
  {
   "cell_type": "code",
   "execution_count": 52,
   "id": "c34db5ec",
   "metadata": {},
   "outputs": [],
   "source": [
    "model=KNeighborsClassifier()\n",
    "model.fit(standard_x,y_train)\n",
    "y_predict=model.predict(standard_x_test)"
   ]
  },
  {
   "cell_type": "code",
   "execution_count": 53,
   "id": "be48335e",
   "metadata": {},
   "outputs": [],
   "source": [
    "acc_score=accuracy_score(y_test,y_predict)"
   ]
  },
  {
   "cell_type": "code",
   "execution_count": 54,
   "id": "31a19502",
   "metadata": {},
   "outputs": [
    {
     "data": {
      "text/plain": [
       "1.0"
      ]
     },
     "execution_count": 54,
     "metadata": {},
     "output_type": "execute_result"
    }
   ],
   "source": [
    "acc_score"
   ]
  },
  {
   "cell_type": "code",
   "execution_count": 61,
   "id": "49bd069b",
   "metadata": {},
   "outputs": [
    {
     "data": {
      "text/plain": [
       "array([[20007,     0],\n",
       "       [    0,    26]], dtype=int64)"
      ]
     },
     "execution_count": 61,
     "metadata": {},
     "output_type": "execute_result"
    }
   ],
   "source": [
    "cm=confusion_matrix(y_test,y_predict)\n",
    "cm"
   ]
  },
  {
   "cell_type": "code",
   "execution_count": 64,
   "id": "c97e04fc",
   "metadata": {},
   "outputs": [
    {
     "data": {
      "text/plain": [
       "<sklearn.metrics._plot.confusion_matrix.ConfusionMatrixDisplay at 0x18a49f6ce50>"
      ]
     },
     "execution_count": 64,
     "metadata": {},
     "output_type": "execute_result"
    },
    {
     "data": {
      "image/png": "[encoded data removed]",
      "text/plain": [
       "<Figure size 432x288 with 2 Axes>"
      ]
     },
     "metadata": {
      "needs_background": "light"
     },
     "output_type": "display_data"
    }
   ],
   "source": [
    "cmd = ConfusionMatrixDisplay(cm)\n",
    "cmd.plot()"
   ]
  },
  {
   "cell_type": "code",
   "execution_count": null,
   "id": "e5972a00",
   "metadata": {},
   "outputs": [],
   "source": []
  }
 ],
 "metadata": {
  "kernelspec": {
   "display_name": "Python 3 (ipykernel)",
   "language": "python",
   "name": "python3"
  },
  "language_info": {
   "codemirror_mode": {
    "name": "ipython",
    "version": 3
   },
   "file_extension": ".py",
   "mimetype": "text/x-python",
   "name": "python",
   "nbconvert_exporter": "python",
   "pygments_lexer": "ipython3",
   "version": "3.9.7"
  }
 },
 "nbformat": 4,
 "nbformat_minor": 5
}
