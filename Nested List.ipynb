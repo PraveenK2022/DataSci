{
 "cells": [
  {
   "cell_type": "code",
   "execution_count": 2,
   "id": "64a1e7f7",
   "metadata": {},
   "outputs": [
    {
     "name": "stdout",
     "output_type": "stream",
     "text": [
      "3\n",
      "['red', 'black']\n",
      "red\n"
     ]
    }
   ],
   "source": [
    "nested_list = [['blue', 'green'], ['red', 'black'], ['blue', 'white']]\n",
    "print(len(nested_list))\n",
    "print (nested_list[1])\n",
    "print (nested_list[1][0])\n"
   ]
  },
  {
   "cell_type": "code",
   "execution_count": null,
   "id": "879c9316",
   "metadata": {},
   "outputs": [],
   "source": []
  },
  {
   "cell_type": "code",
   "execution_count": null,
   "id": "6bd7db69",
   "metadata": {},
   "outputs": [],
   "source": []
  },
  {
   "cell_type": "code",
   "execution_count": 19,
   "id": "c5772b86",
   "metadata": {},
   "outputs": [
    {
     "name": "stdout",
     "output_type": "stream",
     "text": [
      "[[0, 1, 2, 3, 4], [0, 1, 2, 3, 4], [0, 1, 2, 3, 4], [0, 1, 2, 3, 4], [0, 1, 2, 3, 4]]\n",
      "3\n"
     ]
    }
   ],
   "source": [
    "matrix = []\n",
    "for i in range(5):\n",
    "    matrix.append([])\n",
    "    for j in range(5):\n",
    "        matrix[i].append(j)\n",
    "print(matrix)         \n",
    "print(matrix[0][3])"
   ]
  },
  {
   "cell_type": "code",
   "execution_count": 24,
   "id": "51afcaac",
   "metadata": {},
   "outputs": [
    {
     "name": "stdout",
     "output_type": "stream",
     "text": [
      "5\n",
      "a\n",
      "20\n",
      "b\n",
      "20\n",
      "c\n",
      "19\n",
      "d\n",
      "19\n",
      "e\n",
      "21\n",
      "[19.0, 20.0, 21.0]\n",
      "20.0\n"
     ]
    }
   ],
   "source": [
    "        m=[]\n",
    "        for i in range(int(input())):\n",
    "            name = input()\n",
    "            score = float(input())\n",
    "            m.append([name])\n",
    "            m[i].append(score)\n",
    "        sl=[j[1] for j in m]   \n",
    "        x=[]\n",
    "        [x.append(j) for j in sl if j not in x]\n",
    "        x.sort()\n",
    "        print(x)\n",
    "        minval2=x[1]\n",
    "        print(minval2)\n",
    "        res=[y[0] for y in m if y[1]==minval2]\n",
    "        res.sort()\n",
    "        for z in range(len(res)):\n",
    "            print(res[z])\n",
    "\n"
   ]
  },
  {
   "cell_type": "raw",
   "id": "19bad847",
   "metadata": {},
   "source": [
    "## x=['a','b']\n",
    "print(len(x))\n",
    "print(x[0])\n",
    "print(x[1])\n",
    "\n"
   ]
  },
  {
   "cell_type": "code",
   "execution_count": 10,
   "id": "e8345094",
   "metadata": {},
   "outputs": [
    {
     "name": "stdout",
     "output_type": "stream",
     "text": [
      "['ravi', 'praven']\n"
     ]
    }
   ],
   "source": [
    "sl=[['hema', 33.33], ['praven', 44.0], ['ravi', 44.0],['hari',22.99]] \n",
    "x=sl[1][1]\n",
    "print([y[0] for y in sl if y[1]==x])"
   ]
  },
  {
   "cell_type": "code",
   "execution_count": null,
   "id": "eb909e40",
   "metadata": {},
   "outputs": [],
   "source": []
  }
 ],
 "metadata": {
  "kernelspec": {
   "display_name": "Python 3 (ipykernel)",
   "language": "python",
   "name": "python3"
  },
  "language_info": {
   "codemirror_mode": {
    "name": "ipython",
    "version": 3
   },
   "file_extension": ".py",
   "mimetype": "text/x-python",
   "name": "python",
   "nbconvert_exporter": "python",
   "pygments_lexer": "ipython3",
   "version": "3.9.7"
  }
 },
 "nbformat": 4,
 "nbformat_minor": 5
}
