{
 "cells": [
  {
   "cell_type": "code",
   "execution_count": null,
   "id": "6f698809-8e50-4f2e-8088-138ac345a3a2",
   "metadata": {},
   "outputs": [],
   "source": [
    "s='abcbaba'\n",
    "n=len(s)\n",
    "count = len(s)\n",
    "for i, char in enumerate(s):\n",
    "    diff_char_idx = None\n",
    "    for j in range(i+1, n):\n",
    "        if char == s[j]:\n",
    "            if diff_char_idx is None:\n",
    "                count +=1\n",
    "            elif j - diff_char_idx == diff_char_idx - i:\n",
    "                count += 1\n",
    "                break\n",
    "        else:\n",
    "            if diff_char_idx is None:\n",
    "                diff_char_idx = j\n",
    "            else:\n",
    "                break\n",
    "print(count)"
   ]
  },
  {
   "cell_type": "code",
   "execution_count": null,
   "id": "38633149-5098-4840-87b8-9b3b26b9e49d",
   "metadata": {},
   "outputs": [],
   "source": []
  }
 ],
 "metadata": {
  "kernelspec": {
   "display_name": "Python 3 (ipykernel)",
   "language": "python",
   "name": "python3"
  },
  "language_info": {
   "codemirror_mode": {
    "name": "ipython",
    "version": 3
   },
   "file_extension": ".py",
   "mimetype": "text/x-python",
   "name": "python",
   "nbconvert_exporter": "python",
   "pygments_lexer": "ipython3",
   "version": "3.9.7"
  }
 },
 "nbformat": 4,
 "nbformat_minor": 5
}
