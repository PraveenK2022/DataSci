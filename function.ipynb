{
 "cells": [
  {
   "cell_type": "code",
   "execution_count": 10,
   "id": "06681798",
   "metadata": {},
   "outputs": [
    {
     "name": "stdout",
     "output_type": "stream",
     "text": [
      "input year1800\n",
      "False\n"
     ]
    }
   ],
   "source": [
    "def leapyear(year):\n",
    "    if year%4!=0:\n",
    "        print(False)\n",
    "    else:\n",
    "        if year%100==0 and year%400!=0:\n",
    "            print(False)\n",
    "        else:\n",
    "            print(True)\n",
    "        \n",
    "n=int(input(\"input year\"))\n",
    "leapyear(n)"
   ]
  },
  {
   "cell_type": "code",
   "execution_count": 6,
   "id": "5e09a360",
   "metadata": {},
   "outputs": [
    {
     "name": "stdout",
     "output_type": "stream",
     "text": [
      "0\n"
     ]
    }
   ],
   "source": [
    "print(1800%4)"
   ]
  },
  {
   "cell_type": "code",
   "execution_count": null,
   "id": "271b4ac7",
   "metadata": {},
   "outputs": [],
   "source": [
    "    "
   ]
  }
 ],
 "metadata": {
  "kernelspec": {
   "display_name": "Python 3 (ipykernel)",
   "language": "python",
   "name": "python3"
  },
  "language_info": {
   "codemirror_mode": {
    "name": "ipython",
    "version": 3
   },
   "file_extension": ".py",
   "mimetype": "text/x-python",
   "name": "python",
   "nbconvert_exporter": "python",
   "pygments_lexer": "ipython3",
   "version": "3.9.7"
  }
 },
 "nbformat": 4,
 "nbformat_minor": 5
}
