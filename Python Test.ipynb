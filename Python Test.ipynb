{
 "cells": [
  {
   "cell_type": "markdown",
   "id": "f3c38e3d",
   "metadata": {},
   "source": [
    "## Python Test"
   ]
  },
  {
   "cell_type": "markdown",
   "id": "b5a1b8d0",
   "metadata": {},
   "source": [
    "###  Check Unique Number"
   ]
  },
  {
   "cell_type": "code",
   "execution_count": 13,
   "id": "0abc33d1",
   "metadata": {},
   "outputs": [
    {
     "name": "stdout",
     "output_type": "stream",
     "text": [
      "Input n for squence =\n",
      "5\n",
      "1\n",
      "2\n",
      "3\n",
      "1\n",
      "5\n",
      "3\n",
      "Not Unique list\n"
     ]
    }
   ],
   "source": [
    "def checku(a):\n",
    "    check=0\n",
    "    for i in a:\n",
    "        if a.count(i)>1:\n",
    "            check=check+1\n",
    "    return check\n",
    "\n",
    "print(\"Input n for squence =\")\n",
    "n=int(input())\n",
    "l=[]\n",
    "i=1\n",
    "for i in range(n+1):\n",
    "    l.append(int(input()))\n",
    "result=checku(l)\n",
    "if result > 1:\n",
    "    print(\"Not Unique list\")\n",
    "else:\n",
    "    print(\"Unique list\")\n"
   ]
  },
  {
   "cell_type": "markdown",
   "id": "c30a9c78",
   "metadata": {},
   "source": [
    "###  Find Mean"
   ]
  },
  {
   "cell_type": "code",
   "execution_count": 14,
   "id": "ebea62a6",
   "metadata": {},
   "outputs": [
    {
     "name": "stdout",
     "output_type": "stream",
     "text": [
      "Input n for squence =\n",
      "5\n",
      "10\n",
      "20\n",
      "30\n",
      "40\n",
      "50\n",
      "Mean =  30.0\n"
     ]
    }
   ],
   "source": [
    "print(\"Input n for squence =\")\n",
    "n=int(input())\n",
    "s=0\n",
    "for i in range(n):\n",
    "    s=s+int(input())\n",
    "\n",
    "print(\"Mean = \",s/n)\n"
   ]
  },
  {
   "cell_type": "markdown",
   "id": "a386f9e3",
   "metadata": {},
   "source": [
    "###  Check Number is multiple of 5 and 7 "
   ]
  },
  {
   "cell_type": "code",
   "execution_count": 17,
   "id": "72ef3c82",
   "metadata": {},
   "outputs": [
    {
     "name": "stdout",
     "output_type": "stream",
     "text": [
      "Input numner =\n",
      "35\n",
      "True\n"
     ]
    }
   ],
   "source": [
    "print(\"Input number =\")\n",
    "n=int(input())\n",
    "if n%5==0 and n%7 ==0 :\n",
    "    print(\"True\")\n",
    "else:\n",
    "    print(\"False\")"
   ]
  },
  {
   "cell_type": "markdown",
   "id": "91cee7df",
   "metadata": {},
   "source": [
    "### Print reserve of integer "
   ]
  },
  {
   "cell_type": "code",
   "execution_count": 36,
   "id": "bac6568e",
   "metadata": {},
   "outputs": [
    {
     "name": "stdout",
     "output_type": "stream",
     "text": [
      "Input number =\n",
      "123456789\n",
      "987654321"
     ]
    }
   ],
   "source": [
    "print(\"Input number =\")\n",
    "n=input()\n",
    "l=-len(n)\n",
    "i=-1\n",
    "while i>=l:\n",
    "    print(n[i],end=\"\")\n",
    "    i=i-1\n"
   ]
  },
  {
   "cell_type": "markdown",
   "id": "eb68759e",
   "metadata": {},
   "source": [
    "### Outer function and inner function"
   ]
  },
  {
   "cell_type": "code",
   "execution_count": 38,
   "id": "b3134b36",
   "metadata": {},
   "outputs": [
    {
     "name": "stdout",
     "output_type": "stream",
     "text": [
      "4\n",
      "input a= 4\n",
      "5\n",
      "input b= 5\n",
      "this is outer function\n"
     ]
    },
    {
     "ename": "TypeError",
     "evalue": "inner() missing 2 required positional arguments: 'a' and 'b'",
     "output_type": "error",
     "traceback": [
      "\u001b[1;31m---------------------------------------------------------------------------\u001b[0m",
      "\u001b[1;31mTypeError\u001b[0m                                 Traceback (most recent call last)",
      "\u001b[1;32m~\\AppData\\Local\\Temp/ipykernel_9664/446667486.py\u001b[0m in \u001b[0;36m<module>\u001b[1;34m\u001b[0m\n\u001b[0;32m      9\u001b[0m \u001b[0ma\u001b[0m\u001b[1;33m=\u001b[0m\u001b[0mprint\u001b[0m\u001b[1;33m(\u001b[0m\u001b[1;34m\"input a=\"\u001b[0m\u001b[1;33m,\u001b[0m\u001b[0mint\u001b[0m\u001b[1;33m(\u001b[0m\u001b[0minput\u001b[0m\u001b[1;33m(\u001b[0m\u001b[1;33m)\u001b[0m\u001b[1;33m)\u001b[0m\u001b[1;33m)\u001b[0m\u001b[1;33m\u001b[0m\u001b[1;33m\u001b[0m\u001b[0m\n\u001b[0;32m     10\u001b[0m \u001b[0mb\u001b[0m\u001b[1;33m=\u001b[0m\u001b[0mprint\u001b[0m\u001b[1;33m(\u001b[0m\u001b[1;34m\"input b=\"\u001b[0m\u001b[1;33m,\u001b[0m\u001b[0mint\u001b[0m\u001b[1;33m(\u001b[0m\u001b[0minput\u001b[0m\u001b[1;33m(\u001b[0m\u001b[1;33m)\u001b[0m\u001b[1;33m)\u001b[0m\u001b[1;33m)\u001b[0m\u001b[1;33m\u001b[0m\u001b[1;33m\u001b[0m\u001b[0m\n\u001b[1;32m---> 11\u001b[1;33m \u001b[0mc\u001b[0m\u001b[1;33m=\u001b[0m\u001b[0mouter\u001b[0m\u001b[1;33m(\u001b[0m\u001b[0ma\u001b[0m\u001b[1;33m,\u001b[0m\u001b[0mb\u001b[0m\u001b[1;33m)\u001b[0m\u001b[1;33m\u001b[0m\u001b[1;33m\u001b[0m\u001b[0m\n\u001b[0m\u001b[0;32m     12\u001b[0m \u001b[0mprint\u001b[0m\u001b[1;33m(\u001b[0m\u001b[0mc\u001b[0m\u001b[1;33m)\u001b[0m\u001b[1;33m\u001b[0m\u001b[1;33m\u001b[0m\u001b[0m\n",
      "\u001b[1;32m~\\AppData\\Local\\Temp/ipykernel_9664/446667486.py\u001b[0m in \u001b[0;36mouter\u001b[1;34m(a, b)\u001b[0m\n\u001b[0;32m      4\u001b[0m         \u001b[0ms\u001b[0m\u001b[1;33m=\u001b[0m\u001b[0ma\u001b[0m\u001b[1;33m+\u001b[0m\u001b[0mb\u001b[0m\u001b[1;33m\u001b[0m\u001b[1;33m\u001b[0m\u001b[0m\n\u001b[0;32m      5\u001b[0m         \u001b[1;32mreturn\u001b[0m \u001b[0ms\u001b[0m\u001b[1;33m\u001b[0m\u001b[1;33m\u001b[0m\u001b[0m\n\u001b[1;32m----> 6\u001b[1;33m     \u001b[0ms\u001b[0m\u001b[1;33m=\u001b[0m\u001b[0minner\u001b[0m\u001b[1;33m(\u001b[0m\u001b[1;33m)\u001b[0m\u001b[1;33m\u001b[0m\u001b[1;33m\u001b[0m\u001b[0m\n\u001b[0m\u001b[0;32m      7\u001b[0m     \u001b[1;32mreturn\u001b[0m \u001b[0ms\u001b[0m\u001b[1;33m+\u001b[0m\u001b[1;36m5\u001b[0m\u001b[1;33m\u001b[0m\u001b[1;33m\u001b[0m\u001b[0m\n\u001b[0;32m      8\u001b[0m \u001b[1;33m\u001b[0m\u001b[0m\n",
      "\u001b[1;31mTypeError\u001b[0m: inner() missing 2 required positional arguments: 'a' and 'b'"
     ]
    }
   ],
   "source": [
    "def outer(a,b):\n",
    "    print(\"this is outer function\")\n",
    "    def inner(a,b):\n",
    "        s=a+b\n",
    "        return s\n",
    "    s=inner()\n",
    "    return s+5\n",
    "    \n",
    "a=print(\"input a=\",int(input()))\n",
    "b=print(\"input b=\",int(input()))\n",
    "c=outer(a,b)\n",
    "print(c)"
   ]
  },
  {
   "cell_type": "markdown",
   "id": "1dc77315",
   "metadata": {},
   "source": [
    "### Check Leap Year"
   ]
  },
  {
   "cell_type": "code",
   "execution_count": 44,
   "id": "fcfd10fe",
   "metadata": {},
   "outputs": [
    {
     "name": "stdout",
     "output_type": "stream",
     "text": [
      "22\n",
      "not leap year\n"
     ]
    }
   ],
   "source": [
    "def leapyear(y):\n",
    "    if y%4 != 0:\n",
    "        print(\"not leap year\")\n",
    "    elif y%100==0 and y%400!=0:\n",
    "        print(\"not leap year\")\n",
    "    else: \n",
    "        if y%4==0:\n",
    "            print(\"leap year\")\n",
    "\n",
    "n=int(input())\n",
    "leapyear(n)      \n",
    "            \n",
    "            "
   ]
  },
  {
   "cell_type": "markdown",
   "id": "5235f7bc",
   "metadata": {},
   "source": [
    "## Pandas"
   ]
  },
  {
   "cell_type": "code",
   "execution_count": 68,
   "id": "9ede0c51",
   "metadata": {},
   "outputs": [
    {
     "data": {
      "text/html": [
       "<div>\n",
       "<style scoped>\n",
       "    .dataframe tbody tr th:only-of-type {\n",
       "        vertical-align: middle;\n",
       "    }\n",
       "\n",
       "    .dataframe tbody tr th {\n",
       "        vertical-align: top;\n",
       "    }\n",
       "\n",
       "    .dataframe thead th {\n",
       "        text-align: right;\n",
       "    }\n",
       "</style>\n",
       "<table border=\"1\" class=\"dataframe\">\n",
       "  <thead>\n",
       "    <tr style=\"text-align: right;\">\n",
       "      <th></th>\n",
       "      <th>Unnamed: 0</th>\n",
       "      <th>symboling</th>\n",
       "      <th>normalized_losses</th>\n",
       "      <th>make</th>\n",
       "      <th>fuel_type</th>\n",
       "      <th>aspiration</th>\n",
       "      <th>num_doors</th>\n",
       "      <th>body_style</th>\n",
       "      <th>drive_wheels</th>\n",
       "      <th>engine_location</th>\n",
       "      <th>...</th>\n",
       "      <th>engine_size</th>\n",
       "      <th>fuel_system</th>\n",
       "      <th>bore</th>\n",
       "      <th>stroke</th>\n",
       "      <th>compression_ratio</th>\n",
       "      <th>horsepower</th>\n",
       "      <th>peak_rpm</th>\n",
       "      <th>city_mpg</th>\n",
       "      <th>highway_mpg</th>\n",
       "      <th>price</th>\n",
       "    </tr>\n",
       "  </thead>\n",
       "  <tbody>\n",
       "    <tr>\n",
       "      <th>0</th>\n",
       "      <td>0</td>\n",
       "      <td>3</td>\n",
       "      <td>NaN</td>\n",
       "      <td>alfa-romero</td>\n",
       "      <td>gas</td>\n",
       "      <td>std</td>\n",
       "      <td>two</td>\n",
       "      <td>convertible</td>\n",
       "      <td>rwd</td>\n",
       "      <td>front</td>\n",
       "      <td>...</td>\n",
       "      <td>130</td>\n",
       "      <td>mpfi</td>\n",
       "      <td>3.47</td>\n",
       "      <td>2.68</td>\n",
       "      <td>9.0</td>\n",
       "      <td>111.0</td>\n",
       "      <td>5000.0</td>\n",
       "      <td>21</td>\n",
       "      <td>27</td>\n",
       "      <td>13495.0</td>\n",
       "    </tr>\n",
       "    <tr>\n",
       "      <th>1</th>\n",
       "      <td>1</td>\n",
       "      <td>3</td>\n",
       "      <td>NaN</td>\n",
       "      <td>alfa-romero</td>\n",
       "      <td>gas</td>\n",
       "      <td>std</td>\n",
       "      <td>two</td>\n",
       "      <td>convertible</td>\n",
       "      <td>rwd</td>\n",
       "      <td>front</td>\n",
       "      <td>...</td>\n",
       "      <td>130</td>\n",
       "      <td>mpfi</td>\n",
       "      <td>3.47</td>\n",
       "      <td>2.68</td>\n",
       "      <td>9.0</td>\n",
       "      <td>111.0</td>\n",
       "      <td>5000.0</td>\n",
       "      <td>21</td>\n",
       "      <td>27</td>\n",
       "      <td>16500.0</td>\n",
       "    </tr>\n",
       "    <tr>\n",
       "      <th>2</th>\n",
       "      <td>2</td>\n",
       "      <td>1</td>\n",
       "      <td>NaN</td>\n",
       "      <td>alfa-romero</td>\n",
       "      <td>gas</td>\n",
       "      <td>std</td>\n",
       "      <td>two</td>\n",
       "      <td>hatchback</td>\n",
       "      <td>rwd</td>\n",
       "      <td>front</td>\n",
       "      <td>...</td>\n",
       "      <td>152</td>\n",
       "      <td>mpfi</td>\n",
       "      <td>2.68</td>\n",
       "      <td>3.47</td>\n",
       "      <td>9.0</td>\n",
       "      <td>154.0</td>\n",
       "      <td>5000.0</td>\n",
       "      <td>19</td>\n",
       "      <td>26</td>\n",
       "      <td>16500.0</td>\n",
       "    </tr>\n",
       "    <tr>\n",
       "      <th>3</th>\n",
       "      <td>3</td>\n",
       "      <td>2</td>\n",
       "      <td>164.0</td>\n",
       "      <td>audi</td>\n",
       "      <td>gas</td>\n",
       "      <td>std</td>\n",
       "      <td>four</td>\n",
       "      <td>sedan</td>\n",
       "      <td>fwd</td>\n",
       "      <td>front</td>\n",
       "      <td>...</td>\n",
       "      <td>109</td>\n",
       "      <td>mpfi</td>\n",
       "      <td>3.19</td>\n",
       "      <td>3.40</td>\n",
       "      <td>10.0</td>\n",
       "      <td>102.0</td>\n",
       "      <td>5500.0</td>\n",
       "      <td>24</td>\n",
       "      <td>30</td>\n",
       "      <td>13950.0</td>\n",
       "    </tr>\n",
       "    <tr>\n",
       "      <th>4</th>\n",
       "      <td>4</td>\n",
       "      <td>2</td>\n",
       "      <td>164.0</td>\n",
       "      <td>audi</td>\n",
       "      <td>gas</td>\n",
       "      <td>std</td>\n",
       "      <td>four</td>\n",
       "      <td>sedan</td>\n",
       "      <td>4wd</td>\n",
       "      <td>front</td>\n",
       "      <td>...</td>\n",
       "      <td>136</td>\n",
       "      <td>mpfi</td>\n",
       "      <td>3.19</td>\n",
       "      <td>3.40</td>\n",
       "      <td>8.0</td>\n",
       "      <td>115.0</td>\n",
       "      <td>5500.0</td>\n",
       "      <td>18</td>\n",
       "      <td>22</td>\n",
       "      <td>17450.0</td>\n",
       "    </tr>\n",
       "  </tbody>\n",
       "</table>\n",
       "<p>5 rows × 27 columns</p>\n",
       "</div>"
      ],
      "text/plain": [
       "   Unnamed: 0  symboling  normalized_losses         make fuel_type aspiration  \\\n",
       "0           0          3                NaN  alfa-romero       gas        std   \n",
       "1           1          3                NaN  alfa-romero       gas        std   \n",
       "2           2          1                NaN  alfa-romero       gas        std   \n",
       "3           3          2              164.0         audi       gas        std   \n",
       "4           4          2              164.0         audi       gas        std   \n",
       "\n",
       "  num_doors   body_style drive_wheels engine_location  ...  engine_size  \\\n",
       "0       two  convertible          rwd           front  ...          130   \n",
       "1       two  convertible          rwd           front  ...          130   \n",
       "2       two    hatchback          rwd           front  ...          152   \n",
       "3      four        sedan          fwd           front  ...          109   \n",
       "4      four        sedan          4wd           front  ...          136   \n",
       "\n",
       "   fuel_system  bore  stroke  compression_ratio horsepower peak_rpm  city_mpg  \\\n",
       "0         mpfi  3.47    2.68                9.0      111.0   5000.0        21   \n",
       "1         mpfi  3.47    2.68                9.0      111.0   5000.0        21   \n",
       "2         mpfi  2.68    3.47                9.0      154.0   5000.0        19   \n",
       "3         mpfi  3.19    3.40               10.0      102.0   5500.0        24   \n",
       "4         mpfi  3.19    3.40                8.0      115.0   5500.0        18   \n",
       "\n",
       "  highway_mpg    price  \n",
       "0          27  13495.0  \n",
       "1          27  16500.0  \n",
       "2          26  16500.0  \n",
       "3          30  13950.0  \n",
       "4          22  17450.0  \n",
       "\n",
       "[5 rows x 27 columns]"
      ]
     },
     "execution_count": 68,
     "metadata": {},
     "output_type": "execute_result"
    }
   ],
   "source": [
    "import numpy as np\n",
    "import pandas as pd\n",
    "df = pd.read_csv(\"auto.csv\")\n",
    "df.head()\n",
    "#df.groupbypby(df[''])"
   ]
  },
  {
   "cell_type": "code",
   "execution_count": 69,
   "id": "79694a35",
   "metadata": {},
   "outputs": [
    {
     "data": {
      "text/plain": [
       "Index(['Unnamed: 0', 'symboling', 'normalized_losses', 'make', 'fuel_type',\n",
       "       'aspiration', 'num_doors', 'body_style', 'drive_wheels',\n",
       "       'engine_location', 'wheel_base', 'length', 'width', 'height',\n",
       "       'curb_weight', 'engine_type', 'num_cylinders', 'engine_size',\n",
       "       'fuel_system', 'bore', 'stroke', 'compression_ratio', 'horsepower',\n",
       "       'peak_rpm', 'city_mpg', 'highway_mpg', 'price'],\n",
       "      dtype='object')"
      ]
     },
     "execution_count": 69,
     "metadata": {},
     "output_type": "execute_result"
    }
   ],
   "source": [
    "df.columns"
   ]
  },
  {
   "cell_type": "code",
   "execution_count": 56,
   "id": "671f20b0",
   "metadata": {},
   "outputs": [
    {
     "data": {
      "text/plain": [
       "make\n",
       "alfa-romero       3\n",
       "audi              7\n",
       "bmw               8\n",
       "chevrolet         3\n",
       "dodge             9\n",
       "honda            13\n",
       "isuzu             4\n",
       "jaguar            3\n",
       "mazda            17\n",
       "mercedes-benz     8\n",
       "mercury           1\n",
       "mitsubishi       13\n",
       "nissan           18\n",
       "peugot           11\n",
       "plymouth          7\n",
       "porsche           5\n",
       "renault           2\n",
       "saab              6\n",
       "subaru           12\n",
       "toyota           32\n",
       "volkswagen       12\n",
       "volvo            11\n",
       "Name: make, dtype: int64"
      ]
     },
     "execution_count": 56,
     "metadata": {},
     "output_type": "execute_result"
    }
   ],
   "source": [
    "df.groupby(df['make'])['make'].count() ## had to reffer noted :("
   ]
  },
  {
   "cell_type": "code",
   "execution_count": 58,
   "id": "044a8fc0",
   "metadata": {},
   "outputs": [
    {
     "data": {
      "text/plain": [
       "make\n",
       "alfa-romero      16500.0\n",
       "audi             23875.0\n",
       "bmw              41315.0\n",
       "chevrolet         6575.0\n",
       "dodge            12964.0\n",
       "honda            12945.0\n",
       "isuzu            11048.0\n",
       "jaguar           36000.0\n",
       "mazda            18344.0\n",
       "mercedes-benz    45400.0\n",
       "mercury          16503.0\n",
       "mitsubishi       14869.0\n",
       "nissan           19699.0\n",
       "peugot           18150.0\n",
       "plymouth         12764.0\n",
       "porsche          37028.0\n",
       "renault           9895.0\n",
       "saab             18620.0\n",
       "subaru           11694.0\n",
       "toyota           17669.0\n",
       "volkswagen       13845.0\n",
       "volvo            22625.0\n",
       "Name: price, dtype: float64"
      ]
     },
     "execution_count": 58,
     "metadata": {},
     "output_type": "execute_result"
    }
   ],
   "source": [
    "df.groupby(df['make'])['price'].max()"
   ]
  },
  {
   "cell_type": "code",
   "execution_count": 67,
   "id": "27b4cab7",
   "metadata": {},
   "outputs": [
    {
     "data": {
      "text/plain": [
       "138     5118.0\n",
       "18      5151.0\n",
       "50      5195.0\n",
       "150     5348.0\n",
       "76      5389.0\n",
       "        ...   \n",
       "74     45400.0\n",
       "9          NaN\n",
       "44         NaN\n",
       "45         NaN\n",
       "129        NaN\n",
       "Name: price, Length: 205, dtype: float64"
      ]
     },
     "execution_count": 67,
     "metadata": {},
     "output_type": "execute_result"
    }
   ],
   "source": [
    "df['price'].sort_values()"
   ]
  },
  {
   "cell_type": "code",
   "execution_count": 78,
   "id": "33bdbf42",
   "metadata": {},
   "outputs": [
    {
     "data": {
      "text/plain": [
       "make\n",
       "alfa-romero      26.666667\n",
       "audi             24.142857\n",
       "bmw              25.375000\n",
       "chevrolet        46.333333\n",
       "dodge            34.111111\n",
       "honda            35.461538\n",
       "isuzu            36.000000\n",
       "jaguar           18.333333\n",
       "mazda            31.941176\n",
       "mercedes-benz    21.000000\n",
       "mercury          24.000000\n",
       "mitsubishi       31.153846\n",
       "nissan           32.944444\n",
       "peugot           26.636364\n",
       "plymouth         34.142857\n",
       "porsche          26.000000\n",
       "renault          31.000000\n",
       "saab             27.333333\n",
       "subaru           30.750000\n",
       "toyota           32.906250\n",
       "volkswagen       34.916667\n",
       "volvo            25.818182\n",
       "Name: highway_mpg, dtype: float64"
      ]
     },
     "execution_count": 78,
     "metadata": {},
     "output_type": "execute_result"
    }
   ],
   "source": [
    "df.groupby(by=\"make\")[\"highway_mpg\"].mean()"
   ]
  },
  {
   "cell_type": "code",
   "execution_count": null,
   "id": "61fa7e7e",
   "metadata": {},
   "outputs": [],
   "source": []
  }
 ],
 "metadata": {
  "kernelspec": {
   "display_name": "Python 3 (ipykernel)",
   "language": "python",
   "name": "python3"
  },
  "language_info": {
   "codemirror_mode": {
    "name": "ipython",
    "version": 3
   },
   "file_extension": ".py",
   "mimetype": "text/x-python",
   "name": "python",
   "nbconvert_exporter": "python",
   "pygments_lexer": "ipython3",
   "version": "3.9.7"
  }
 },
 "nbformat": 4,
 "nbformat_minor": 5
}
