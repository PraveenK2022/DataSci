{
 "cells": [
  {
   "cell_type": "code",
   "execution_count": 14,
   "id": "4df27ca9",
   "metadata": {},
   "outputs": [
    {
     "name": "stdout",
     "output_type": "stream",
     "text": [
      "give scentencethis is test 3\n",
      "['this', 'is', 'test', '3']\n",
      "this & is & test & 3\n"
     ]
    }
   ],
   "source": [
    "import sys,ast\n",
    "name=input(\"give scentence\")\n",
    "name=name.split(\" \")\n",
    "print(name)\n",
    "name1=\" & \".join(name)\n",
    "print(name1)"
   ]
  },
  {
   "cell_type": "code",
   "execution_count": null,
   "id": "02e29b72",
   "metadata": {},
   "outputs": [],
   "source": []
  }
 ],
 "metadata": {
  "kernelspec": {
   "display_name": "Python 3 (ipykernel)",
   "language": "python",
   "name": "python3"
  },
  "language_info": {
   "codemirror_mode": {
    "name": "ipython",
    "version": 3
   },
   "file_extension": ".py",
   "mimetype": "text/x-python",
   "name": "python",
   "nbconvert_exporter": "python",
   "pygments_lexer": "ipython3",
   "version": "3.9.7"
  }
 },
 "nbformat": 4,
 "nbformat_minor": 5
}
