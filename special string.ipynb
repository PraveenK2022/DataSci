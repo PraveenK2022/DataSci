{
 "cells": [
  {
   "cell_type": "code",
   "execution_count": 2,
   "id": "2e000f10",
   "metadata": {
    "scrolled": true
   },
   "outputs": [
    {
     "name": "stdout",
     "output_type": "stream",
     "text": [
      "()\n",
      "('a',)\n",
      "('b',)\n",
      "('c',)\n",
      "('a', 'b')\n",
      "('a', 'c')\n",
      "('b', 'c')\n",
      "('a', 'b', 'c')\n"
     ]
    }
   ],
   "source": [
    "import itertools as it\n",
    "stuff=['a','b','c']\n",
    "for L in range(0, len(stuff)+1):\n",
    "    for subset in it.combinations(stuff, L):\n",
    "        print(subset)"
   ]
  },
  {
   "cell_type": "code",
   "execution_count": 45,
   "id": "3cedf079",
   "metadata": {},
   "outputs": [
    {
     "name": "stdout",
     "output_type": "stream",
     "text": [
      "['a', 'as', 'asa', 'asas', 'asasd']\n",
      "['', 'a', 'a', 'as', 'as']\n",
      "['', 's', 'a', 'as', 'sd']\n",
      "['s', 'sa', 'sas', 'sasd']\n",
      "['', 's', 's', 'sa']\n",
      "['', 'a', 's', 'sd']\n",
      "['a', 'as', 'asd']\n",
      "['', 'a', 'a']\n",
      "['', 's', 'd']\n",
      "['s', 'sd']\n",
      "['', 's']\n",
      "['', 'd']\n",
      "['d']\n",
      "['']\n",
      "['']\n",
      "[]\n",
      "[]\n",
      "[]\n"
     ]
    }
   ],
   "source": [
    "s='asasd'\n",
    "l=[]\n",
    "r=0\n",
    "for i in range(0,len(s)+1):\n",
    "    x=[s[i:j] for j in range(i+1,len(s)+1)]\n",
    "    print(x)\n",
    "    res1=[n[0:int(len(n)/2)] for n in x]\n",
    "    res2=[n[int(len(n)/2) if len(n)%2 ==0 else int(len(n)/2)+1:] for n in x]\n",
    "    print(res1)\n",
    "    print(res2)\n",
    "    #r+=res.count(1)\n",
    "#print(r)"
   ]
  },
  {
   "cell_type": "code",
   "execution_count": 101,
   "id": "4165663d",
   "metadata": {},
   "outputs": [
    {
     "name": "stdout",
     "output_type": "stream",
     "text": [
      "['a', 'asa', 'asas', 's', 'sas', 'a', 's', 'd']\n",
      "['a', 'asa', '', 's', 'sas', 'a', 's', 'd']\n",
      "7\n"
     ]
    }
   ],
   "source": [
    "s='asasd'\n",
    "l=[]\n",
    "r=0\n",
    "for i in range(0,len(s)+1):\n",
    "    x=[s[i:j] for j in range(i+1,len(s)+1)]\n",
    "    l.extend(list(filter(None,[n if n[0:int(len(n)/2)] == n[int(len(n)/2) if len(n)%2 ==0 else int(len(n)/2)+1:] else \"\" for n in x])))\n",
    "print(l)\n",
    "sub=[a if a.count(a[0])>=len(a)-1 else \"\" for a in l]\n",
    "print(sub)\n",
    "res=(list(filter(None,sub)))\n",
    "print(len(res))\n",
    "\n"
   ]
  },
  {
   "cell_type": "code",
   "execution_count": 23,
   "id": "0d3c4f36",
   "metadata": {},
   "outputs": [
    {
     "name": "stdout",
     "output_type": "stream",
     "text": [
      "1.0\n",
      "a a\n"
     ]
    }
   ],
   "source": [
    "s='aa'\n",
    "print(len(s)/2)\n",
    "f  = s[0:int(len(s)/2)]\n",
    "q = s[(int(len(s)/2)):]\n",
    "print(f,q)\n"
   ]
  },
  {
   "cell_type": "code",
   "execution_count": 96,
   "id": "03e0e5d9",
   "metadata": {},
   "outputs": [
    {
     "name": "stdout",
     "output_type": "stream",
     "text": [
      "special\n"
     ]
    }
   ],
   "source": [
    "s='aa'\n",
    "if s.count(s[0])==len(s): \n",
    "    print(\"special\") \n",
    "else: \n",
    "    print(\"not special\")\n"
   ]
  },
  {
   "cell_type": "code",
   "execution_count": 113,
   "id": "c5ead217",
   "metadata": {},
   "outputs": [
    {
     "name": "stdout",
     "output_type": "stream",
     "text": [
      "12\n"
     ]
    }
   ],
   "source": [
    "s='mnonopoo'\n",
    "n=len(s)\n",
    "count = len(s)\n",
    "for i, char in enumerate(s):\n",
    "    diff_char_idx = None\n",
    "    for j in range(i+1, n):\n",
    "        if char == s[j]:\n",
    "            if diff_char_idx is None:\n",
    "                count +=1\n",
    "            elif j - diff_char_idx == diff_char_idx - i:\n",
    "                count += 1\n",
    "                break\n",
    "        else:\n",
    "            if diff_char_idx is None:\n",
    "                diff_char_idx = j\n",
    "            else:\n",
    "                break\n",
    "print(count)"
   ]
  },
  {
   "cell_type": "code",
   "execution_count": 105,
   "id": "ed588e2c",
   "metadata": {},
   "outputs": [
    {
     "name": "stdout",
     "output_type": "stream",
     "text": [
      "0 a\n",
      "1 b\n",
      "2 c\n",
      "3 b\n",
      "4 a\n",
      "5 b\n",
      "6 a\n"
     ]
    }
   ],
   "source": []
  },
  {
   "cell_type": "code",
   "execution_count": null,
   "id": "649303f8",
   "metadata": {},
   "outputs": [],
   "source": []
  }
 ],
 "metadata": {
  "kernelspec": {
   "display_name": "Python 3 (ipykernel)",
   "language": "python",
   "name": "python3"
  },
  "language_info": {
   "codemirror_mode": {
    "name": "ipython",
    "version": 3
   },
   "file_extension": ".py",
   "mimetype": "text/x-python",
   "name": "python",
   "nbconvert_exporter": "python",
   "pygments_lexer": "ipython3",
   "version": "3.9.7"
  }
 },
 "nbformat": 4,
 "nbformat_minor": 5
}
